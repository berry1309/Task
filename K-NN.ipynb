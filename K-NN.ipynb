{
 "cells": [
  {
   "cell_type": "markdown",
   "id": "238d8952",
   "metadata": {},
   "source": [
    "# K- Nearest Neighbor\n"
   ]
  },
  {
   "cell_type": "markdown",
   "id": "1ea94162",
   "metadata": {},
   "source": [
    "K- Nearest Neighbor is a supervised machine learning algorithm used for classification problems."
   ]
  },
  {
   "cell_type": "markdown",
   "id": "08f7bda2",
   "metadata": {},
   "source": [
    "KNN algorithm classifies a data point to a particular category based on distance. It predicts the category of a new data point based on its closest neighbours.\"K\" represents the number of nearest points. This value is selected based on the input data. It input data has more outliers, a higher value of K would be selected. we can use different distance metrics like, euclidean distance, manhattan distance etc. \n",
    "\n"
   ]
  },
  {
   "cell_type": "markdown",
   "id": "00f7e983",
   "metadata": {},
   "source": [
    "# Algorithm"
   ]
  },
  {
   "cell_type": "markdown",
   "id": "92c1e115",
   "metadata": {},
   "source": [
    "Step 1: Choose how many neighbors (K) to look at when making predictions.\n",
    "    \n",
    "    \n",
    "Step 2: Measure how close each data point is to the new data (using distance). This tells us the similarity between the two points.\n",
    "    \n",
    "    \n",
    "Step 3: Pick Neighbors- The data points with the smallest distance become the neighbors. \n",
    "    \n",
    "    \n",
    "Step 4: Make a Prediction - For classification: The category with the most neighbors wins (majority vote).\n",
    "        For regression: Take the average of the neighbors’ values."
   ]
  },
  {
   "cell_type": "markdown",
   "id": "f43b020f",
   "metadata": {},
   "source": [
    "# Code "
   ]
  },
  {
   "cell_type": "code",
   "execution_count": 6,
   "id": "7d030d8d",
   "metadata": {},
   "outputs": [],
   "source": [
    "import numpy as np"
   ]
  },
  {
   "cell_type": "code",
   "execution_count": 7,
   "id": "683cab96",
   "metadata": {},
   "outputs": [],
   "source": [
    "X_train = np.array([[1, 2], [2, 3], [3, 4], [5, 6]])  # Lets say these are features\n",
    "y_train = np.array([0, 0, 1, 1])  # Here (0 = Class A, 1 = Class B)"
   ]
  },
  {
   "attachments": {
    "image.png": {
     "image/png": "[encoded data removed]"
    }
   },
   "cell_type": "markdown",
   "id": "1ac2b19d",
   "metadata": {},
   "source": [
    "In this example we are considering the euclidean distance \n",
    "Euclidean distance = ![image.png](attachment:image.png)"
   ]
  },
  {
   "cell_type": "code",
   "execution_count": 8,
   "id": "c9bd03ea",
   "metadata": {},
   "outputs": [],
   "source": [
    "def euclidean_distance(p1, p2):\n",
    "    return np.sqrt(np.sum((p1 - p2) ** 2))"
   ]
  },
  {
   "cell_type": "code",
   "execution_count": 21,
   "id": "77199d3c",
   "metadata": {},
   "outputs": [],
   "source": [
    "#function to implement the knn algorithm stepwise:\n",
    "\n",
    "def knn(X_train, y_train, X_test, k):\n",
    "    predictions = []\n",
    "    for test_point in X_test:\n",
    "        # Step 1: To calculate the distance between test point and all training points\n",
    "        #\"distances\" is the list of distances from the test point to every training point\n",
    "        distances = [euclidean_distance(test_point, train_point) for train_point in X_train]\n",
    "        \n",
    "        # Step 2: Find the K nearest neighbors\n",
    "        # argsort will arrange all the indices in the ascending order and using :k, we will take the first indices, so if K is 2, we will take only the first two indices. \n",
    "        k_indices = np.argsort(distances)[:k]\n",
    "        k_nearest_labels = [y_train[i] for i in k_indices]\n",
    "              \n",
    "        # Step 3: Finding the most frequent label among the K nearest neighbors\n",
    "        # We will use label count as a dictionary that will store all the values, i.e. the count of each points \n",
    "        \n",
    "        label_count = {}\n",
    "        for label in k_nearest_labels:\n",
    "            if label in label_count:\n",
    "                label_count[label] += 1\n",
    "            else:\n",
    "                label_count[label] = 1\n",
    "        \n",
    "        # Select the label with the highest count\n",
    "        predicted_label = max(label_count, key=label_count.get)\n",
    "        predictions.append(predicted_label)  \n",
    "\n",
    "    return predictions\n",
    "    "
   ]
  },
  {
   "cell_type": "code",
   "execution_count": 24,
   "id": "9ee026ae",
   "metadata": {},
   "outputs": [],
   "source": [
    "#this is to test the algorithm \n",
    "X_test = np.array([[8, 5], [1, 1]]) \n",
    "\n",
    "k = 3 \n",
    "predictions = knn(X_train, y_train, X_test, k)"
   ]
  },
  {
   "cell_type": "code",
   "execution_count": 25,
   "id": "3209fd7c",
   "metadata": {},
   "outputs": [
    {
     "name": "stdout",
     "output_type": "stream",
     "text": [
      "Predictions: [1, 0]\n"
     ]
    }
   ],
   "source": [
    "print(\"Predictions:\", predictions) "
   ]
  },
  {
   "cell_type": "markdown",
   "id": "addd6f89",
   "metadata": {},
   "source": [
    "here, 0 = class A\n",
    "\n",
    "1 = class B "
   ]
  },
  {
   "cell_type": "markdown",
   "id": "6e71ae16",
   "metadata": {},
   "source": [
    "as a result, both the data points belong to class B. "
   ]
  },
  {
   "cell_type": "code",
   "execution_count": null,
   "id": "27ff43fd",
   "metadata": {},
   "outputs": [],
   "source": []
  }
 ],
 "metadata": {
  "kernelspec": {
   "display_name": "Python 3 (ipykernel)",
   "language": "python",
   "name": "python3"
  },
  "language_info": {
   "codemirror_mode": {
    "name": "ipython",
    "version": 3
   },
   "file_extension": ".py",
   "mimetype": "text/x-python",
   "name": "python",
   "nbconvert_exporter": "python",
   "pygments_lexer": "ipython3",
   "version": "3.11.4"
  }
 },
 "nbformat": 4,
 "nbformat_minor": 5
}
